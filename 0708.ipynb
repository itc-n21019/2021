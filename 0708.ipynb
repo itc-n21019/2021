{
 "cells": [
  {
   "cell_type": "code",
   "execution_count": 1,
   "metadata": {},
   "outputs": [
    {
     "data": {
      "text/plain": [
       "True"
      ]
     },
     "execution_count": 1,
     "metadata": {},
     "output_type": "execute_result"
    }
   ],
   "source": [
    "True"
   ]
  },
  {
   "cell_type": "code",
   "execution_count": 2,
   "metadata": {},
   "outputs": [
    {
     "data": {
      "text/plain": [
       "False"
      ]
     },
     "execution_count": 2,
     "metadata": {},
     "output_type": "execute_result"
    }
   ],
   "source": [
    "False"
   ]
  },
  {
   "cell_type": "code",
   "execution_count": 3,
   "metadata": {},
   "outputs": [
    {
     "data": {
      "text/plain": [
       "1"
      ]
     },
     "execution_count": 3,
     "metadata": {},
     "output_type": "execute_result"
    }
   ],
   "source": [
    "int(True)"
   ]
  },
  {
   "cell_type": "code",
   "execution_count": 4,
   "metadata": {},
   "outputs": [
    {
     "data": {
      "text/plain": [
       "0"
      ]
     },
     "execution_count": 4,
     "metadata": {},
     "output_type": "execute_result"
    }
   ],
   "source": [
    "int(False)"
   ]
  },
  {
   "cell_type": "code",
   "execution_count": 5,
   "metadata": {},
   "outputs": [
    {
     "data": {
      "text/plain": [
       "False"
      ]
     },
     "execution_count": 5,
     "metadata": {},
     "output_type": "execute_result"
    }
   ],
   "source": [
    "bool(None)"
   ]
  },
  {
   "cell_type": "code",
   "execution_count": 18,
   "metadata": {},
   "outputs": [
    {
     "data": {
      "text/plain": [
       "'2/6'"
      ]
     },
     "execution_count": 18,
     "metadata": {},
     "output_type": "execute_result"
    }
   ],
   "source": [
    "import random\n",
    "ope_list=['+','-','*','/','//','**','%']\n",
    "int_list=[1,2,3,4,5,6,7,8,9]\n",
    "\n",
    "intA=random.randint(0,len(int_list)-1)\n",
    "opeA=random.randint(0,len(int_list)-1)\n",
    "intB=random.randint(0,len(int_list)-1)\n",
    "\n",
    "str(int_list[intA])+ope_list[opeA]+str(int_list[intB])"
   ]
  },
  {
   "cell_type": "code",
   "execution_count": 19,
   "metadata": {},
   "outputs": [
    {
     "name": "stdout",
     "output_type": "stream",
     "text": [
      "1*2%2\n"
     ]
    }
   ],
   "source": [
    "import random\n",
    "ope_list=['+','-','*','/','//','**','%']\n",
    "int_list=[1,2,3,4,5,6,7,8,9]\n",
    "\n",
    "intA=random.randint(0,len(int_list)-1)\n",
    "int_form=str(int_list[intA])\n",
    "\n",
    "for a in range(1,3):\n",
    "    opeA=random.randint(0,len(ope_list)-1)\n",
    "    intB=random.randint(0,len(int_list)-1)\n",
    "    int_form+=ope_list[opeA]+str(int_list[intB])\n",
    "\n",
    "print(int_form)"
   ]
  },
  {
   "cell_type": "code",
   "execution_count": 26,
   "metadata": {},
   "outputs": [],
   "source": [
    "import random\n",
    "ope_list=['+','-','*','/','//','**','%','<','>','<=','>=','==','!=','and','or']\n",
    "int_list=[1,2,3,4,5,6,7,8,9]\n",
    "\n",
    "intA=random.randint(0,len(int_list)-1)\n",
    "int_form=str(int_list[intA])\n",
    "\n",
    "for a in range(1,3):\n",
    "    opeA=random.randint(0,len(ope_list)-1)\n",
    "    intB=random.randint(0,len(int_list)-1)\n",
    "    int_form+=ope_list[opeA]+str(int_list[intB])\n",
    "import os\n",
    "for num in range(10):\n",
    "    os.system('python print(int_form)')\n"
   ]
  },
  {
   "cell_type": "code",
   "execution_count": null,
   "metadata": {},
   "outputs": [],
   "source": []
  }
 ],
 "metadata": {
  "kernelspec": {
   "display_name": "Python 3",
   "language": "python",
   "name": "python3"
  },
  "language_info": {
   "codemirror_mode": {
    "name": "ipython",
    "version": 3
   },
   "file_extension": ".py",
   "mimetype": "text/x-python",
   "name": "python",
   "nbconvert_exporter": "python",
   "pygments_lexer": "ipython3",
   "version": "3.8.10"
  }
 },
 "nbformat": 4,
 "nbformat_minor": 4
}
